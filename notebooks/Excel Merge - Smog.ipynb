{
 "cells": [
  {
   "cell_type": "code",
   "execution_count": 3,
   "metadata": {},
   "outputs": [],
   "source": [
    "import pandas as pd\n",
    "import glob\n",
    "import os"
   ]
  },
  {
   "cell_type": "code",
   "execution_count": 4,
   "metadata": {},
   "outputs": [],
   "source": [
    "directory = r\"C:\\Users\\eykin\\Desktop\\Eddie Documentsls\\projects\\Chronic_disease_capstone\\state_smog\"\n",
    "files = [os.path.join(directory, file) for file in os.listdir(directory) if file.endswith(\".csv\")]\n",
    "\n",
    "first_csv = pd.read_csv(files[0])\n",
    "combined_data = pd.concat([pd.read_csv(file) for file in files], ignore_index=True)\n",
    "combined_data.to_csv(os.path.join(directory, \"2.5all_states.csv\"), index=False)"
   ]
  }
 ],
 "metadata": {
  "kernelspec": {
   "display_name": "base",
   "language": "python",
   "name": "python3"
  },
  "language_info": {
   "codemirror_mode": {
    "name": "ipython",
    "version": 3
   },
   "file_extension": ".py",
   "mimetype": "text/x-python",
   "name": "python",
   "nbconvert_exporter": "python",
   "pygments_lexer": "ipython3",
   "version": "3.9.13"
  }
 },
 "nbformat": 4,
 "nbformat_minor": 2
}
